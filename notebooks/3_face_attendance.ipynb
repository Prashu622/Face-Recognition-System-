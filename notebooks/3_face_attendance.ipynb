{
 "cells": [
  {
   "cell_type": "code",
   "execution_count": 2,
   "id": "0ea7d52c-b15a-4539-9c86-cd6a3e0477a4",
   "metadata": {
    "scrolled": true
   },
   "outputs": [
    {
     "name": "stdout",
     "output_type": "stream",
     "text": [
      "✅ Webcam started. Press 'q' to quit.\n"
     ]
    }
   ],
   "source": [
    "import cv2\n",
    "import face_recognition\n",
    "import pickle\n",
    "import numpy as np\n",
    "\n",
    "# Load known encodings\n",
    "with open(\"../trained_model/encodings.pickle\", \"rb\") as f:\n",
    "    data = pickle.load(f)\n",
    "\n",
    "known_face_encodings = data[\"encodings\"]\n",
    "known_face_names = data[\"names\"]\n",
    "\n",
    "# Start webcam\n",
    "video_capture = cv2.VideoCapture(0)\n",
    "\n",
    "if not video_capture.isOpened():\n",
    "    print(\"❌ Error: Could not open webcam.\")\n",
    "    exit()\n",
    "\n",
    "print(\"✅ Webcam started. Press 'q' to quit.\")\n",
    "\n",
    "while True:\n",
    "    ret, frame = video_capture.read()\n",
    "    if not ret:\n",
    "        print(\"❌ Failed to grab frame.\")\n",
    "        break\n",
    "\n",
    "    # Resize frame for faster processing\n",
    "    small_frame = cv2.resize(frame, (0, 0), fx=0.25, fy=0.25)\n",
    "    \n",
    "    # Convert from BGR to RGB\n",
    "    rgb_small_frame = cv2.cvtColor(small_frame, cv2.COLOR_BGR2RGB)\n",
    "\n",
    "    # Detect faces\n",
    "    face_locations = face_recognition.face_locations(rgb_small_frame, model=\"cnn\")\n",
    "\n",
    "    # Encode faces\n",
    "    face_encodings = face_recognition.face_encodings(rgb_small_frame, face_locations)\n",
    "\n",
    "    for (top, right, bottom, left), face_encoding in zip(face_locations, face_encodings):\n",
    "        name = \"Unknown\"\n",
    "        confidence_text = \"\"\n",
    "\n",
    "        # Compare against known faces\n",
    "        distances = face_recognition.face_distance(known_face_encodings, face_encoding)\n",
    "        if len(distances) > 0:\n",
    "            best_match_index = np.argmin(distances)\n",
    "            if distances[best_match_index] < 0.45:\n",
    "                name = known_face_names[best_match_index]\n",
    "                confidence = round((1 - distances[best_match_index]) * 100, 2)\n",
    "                confidence_text = f\"{confidence}%\"\n",
    "\n",
    "        # Scale back to original frame size\n",
    "        top *= 4\n",
    "        right *= 4\n",
    "        bottom *= 4\n",
    "        left *= 4\n",
    "\n",
    "        # Draw face box\n",
    "        cv2.rectangle(frame, (left, top), (right, bottom), (0, 255, 0), 2)\n",
    "        \n",
    "        # Name above box\n",
    "        cv2.putText(frame, name, (left, top - 10),\n",
    "                    cv2.FONT_HERSHEY_SIMPLEX, 0.8, (255, 255, 255), 2)\n",
    "\n",
    "        # Accuracy below box\n",
    "        if confidence_text:\n",
    "            cv2.putText(frame, confidence_text, (left, bottom + 25),\n",
    "                        cv2.FONT_HERSHEY_SIMPLEX, 0.7, (0, 255, 255), 2)\n",
    "\n",
    "    # Show video\n",
    "    cv2.imshow(\"Live Face Recognition\", frame)\n",
    "\n",
    "    # Quit on 'q'\n",
    "    if cv2.waitKey(1) & 0xFF == ord('q'):\n",
    "        break\n",
    "\n",
    "video_capture.release()\n",
    "cv2.destroyAllWindows()\n"
   ]
  },
  {
   "cell_type": "code",
   "execution_count": null,
   "id": "597429d2-6987-4004-bdac-18afe94b5e3e",
   "metadata": {},
   "outputs": [],
   "source": []
  }
 ],
 "metadata": {
  "kernelspec": {
   "display_name": "Python 3 (ipykernel)",
   "language": "python",
   "name": "python3"
  },
  "language_info": {
   "codemirror_mode": {
    "name": "ipython",
    "version": 3
   },
   "file_extension": ".py",
   "mimetype": "text/x-python",
   "name": "python",
   "nbconvert_exporter": "python",
   "pygments_lexer": "ipython3",
   "version": "3.13.5"
  }
 },
 "nbformat": 4,
 "nbformat_minor": 5
}
