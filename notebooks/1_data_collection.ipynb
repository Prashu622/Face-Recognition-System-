{
 "cells": [
  {
   "cell_type": "code",
   "execution_count": 1,
   "id": "cc781a06-5fa9-413e-bc18-a10c9279a677",
   "metadata": {},
   "outputs": [
    {
     "name": "stdout",
     "output_type": "stream",
     "text": [
      "✅ Press SPACE to capture image, 'q' to quit.\n",
      "📸 Captured: ../dataset/prashant\\0.jpg\n",
      "📸 Captured: ../dataset/prashant\\1.jpg\n",
      "📸 Captured: ../dataset/prashant\\2.jpg\n",
      "📸 Captured: ../dataset/prashant\\3.jpg\n",
      "📸 Captured: ../dataset/prashant\\4.jpg\n",
      "📸 Captured: ../dataset/prashant\\5.jpg\n",
      "📸 Captured: ../dataset/prashant\\6.jpg\n",
      "📸 Captured: ../dataset/prashant\\7.jpg\n",
      "📸 Captured: ../dataset/prashant\\8.jpg\n",
      "📸 Captured: ../dataset/prashant\\9.jpg\n",
      "📸 Captured: ../dataset/prashant\\10.jpg\n",
      "📸 Captured: ../dataset/prashant\\11.jpg\n",
      "📸 Captured: ../dataset/prashant\\12.jpg\n",
      "📸 Captured: ../dataset/prashant\\13.jpg\n",
      "📸 Captured: ../dataset/prashant\\14.jpg\n",
      "📸 Captured: ../dataset/prashant\\15.jpg\n",
      "📸 Captured: ../dataset/prashant\\16.jpg\n",
      "📸 Captured: ../dataset/prashant\\17.jpg\n",
      "📸 Captured: ../dataset/prashant\\18.jpg\n",
      "📸 Captured: ../dataset/prashant\\19.jpg\n",
      "📸 Captured: ../dataset/prashant\\20.jpg\n",
      "📸 Captured: ../dataset/prashant\\21.jpg\n",
      "📸 Captured: ../dataset/prashant\\22.jpg\n",
      "🛑 Exiting.\n"
     ]
    }
   ],
   "source": [
    "import cv2\n",
    "import os\n",
    "import time\n",
    "\n",
    "# Step 1: Input name and create directory\n",
    "person_name = \"prashant\"  # Change this for each person\n",
    "save_path = f\"../dataset/{person_name}\"\n",
    "\n",
    "if not os.path.exists(save_path):\n",
    "    os.makedirs(save_path)\n",
    "\n",
    "# Step 2: Start webcam\n",
    "cam = cv2.VideoCapture(0)\n",
    "time.sleep(2)  # allow camera to warm up\n",
    "\n",
    "if not cam.isOpened():\n",
    "    print(\"❌ Could not open webcam.\")\n",
    "    exit()\n",
    "\n",
    "count = 0\n",
    "print(\"✅ Press SPACE to capture image, 'q' to quit.\")\n",
    "\n",
    "while True:\n",
    "    ret, frame = cam.read()\n",
    "    if not ret:\n",
    "        print(\"❌ Failed to grab frame.\")\n",
    "        break\n",
    "\n",
    "    # Display live camera\n",
    "    cv2.imshow(\"Manual Face Capture\", frame)\n",
    "\n",
    "    key = cv2.waitKey(1)\n",
    "\n",
    "    if key % 256 == 32:  # SPACE key pressed\n",
    "        img_name = os.path.join(save_path, f\"{count}.jpg\")\n",
    "        cv2.imwrite(img_name, frame)\n",
    "        print(f\"📸 Captured: {img_name}\")\n",
    "        count += 1\n",
    "\n",
    "    elif key & 0xFF == ord('q'):  # Quit on 'q'\n",
    "        print(\"🛑 Exiting.\")\n",
    "        break\n",
    "\n",
    "cam.release()\n",
    "cv2.destroyAllWindows()\n",
    "\n"
   ]
  },
  {
   "cell_type": "code",
   "execution_count": null,
   "id": "c08c6e48-12f8-4c4f-b204-0a0211e26365",
   "metadata": {},
   "outputs": [],
   "source": []
  }
 ],
 "metadata": {
  "kernelspec": {
   "display_name": "Python 3 (ipykernel)",
   "language": "python",
   "name": "python3"
  },
  "language_info": {
   "codemirror_mode": {
    "name": "ipython",
    "version": 3
   },
   "file_extension": ".py",
   "mimetype": "text/x-python",
   "name": "python",
   "nbconvert_exporter": "python",
   "pygments_lexer": "ipython3",
   "version": "3.13.5"
  }
 },
 "nbformat": 4,
 "nbformat_minor": 5
}
